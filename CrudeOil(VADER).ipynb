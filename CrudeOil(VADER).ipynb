{
  "nbformat": 4,
  "nbformat_minor": 0,
  "metadata": {
    "colab": {
      "name": "CrudeOil(VADER).ipynb",
      "provenance": []
    },
    "kernelspec": {
      "name": "python3",
      "display_name": "Python 3"
    },
    "language_info": {
      "name": "python"
    }
  },
  "cells": [
    {
      "cell_type": "code",
      "source": [
        "!pip install vaderSentiment"
      ],
      "metadata": {
        "colab": {
          "base_uri": "https://localhost:8080/"
        },
        "id": "AvbNXM8uo7Gn",
        "outputId": "115f3844-7c86-4664-be0a-f0a3dfa8994e"
      },
      "execution_count": null,
      "outputs": [
        {
          "output_type": "stream",
          "name": "stdout",
          "text": [
            "Collecting vaderSentiment\n",
            "  Downloading vaderSentiment-3.3.2-py2.py3-none-any.whl (125 kB)\n",
            "\u001b[?25l\r\u001b[K     |██▋                             | 10 kB 20.7 MB/s eta 0:00:01\r\u001b[K     |█████▏                          | 20 kB 9.6 MB/s eta 0:00:01\r\u001b[K     |███████▉                        | 30 kB 7.3 MB/s eta 0:00:01\r\u001b[K     |██████████▍                     | 40 kB 7.0 MB/s eta 0:00:01\r\u001b[K     |█████████████                   | 51 kB 4.1 MB/s eta 0:00:01\r\u001b[K     |███████████████▋                | 61 kB 4.3 MB/s eta 0:00:01\r\u001b[K     |██████████████████▏             | 71 kB 4.4 MB/s eta 0:00:01\r\u001b[K     |████████████████████▉           | 81 kB 5.0 MB/s eta 0:00:01\r\u001b[K     |███████████████████████▍        | 92 kB 3.8 MB/s eta 0:00:01\r\u001b[K     |██████████████████████████      | 102 kB 4.1 MB/s eta 0:00:01\r\u001b[K     |████████████████████████████▋   | 112 kB 4.1 MB/s eta 0:00:01\r\u001b[K     |███████████████████████████████▏| 122 kB 4.1 MB/s eta 0:00:01\r\u001b[K     |████████████████████████████████| 125 kB 4.1 MB/s \n",
            "\u001b[?25hRequirement already satisfied: requests in /usr/local/lib/python3.7/dist-packages (from vaderSentiment) (2.23.0)\n",
            "Requirement already satisfied: certifi>=2017.4.17 in /usr/local/lib/python3.7/dist-packages (from requests->vaderSentiment) (2021.10.8)\n",
            "Requirement already satisfied: urllib3!=1.25.0,!=1.25.1,<1.26,>=1.21.1 in /usr/local/lib/python3.7/dist-packages (from requests->vaderSentiment) (1.24.3)\n",
            "Requirement already satisfied: idna<3,>=2.5 in /usr/local/lib/python3.7/dist-packages (from requests->vaderSentiment) (2.10)\n",
            "Requirement already satisfied: chardet<4,>=3.0.2 in /usr/local/lib/python3.7/dist-packages (from requests->vaderSentiment) (3.0.4)\n",
            "Installing collected packages: vaderSentiment\n",
            "Successfully installed vaderSentiment-3.3.2\n"
          ]
        }
      ]
    },
    {
      "cell_type": "code",
      "execution_count": null,
      "metadata": {
        "id": "I6SbAfVDoN1W"
      },
      "outputs": [],
      "source": [
        "import requests\n",
        "from bs4 import BeautifulSoup\n",
        "import pandas as pd\n",
        "from vaderSentiment.vaderSentiment import SentimentIntensityAnalyzer"
      ]
    },
    {
      "cell_type": "code",
      "source": [
        "# Create lists to store scraped news urls, headlines and text\n",
        "url_list = []\n",
        "date_time = []\n",
        "news_text = []\n",
        "headlines = [] "
      ],
      "metadata": {
        "id": "3YpJPSVMo-K6"
      },
      "execution_count": null,
      "outputs": []
    },
    {
      "cell_type": "code",
      "source": [
        "for i in range(1,3): #parameters of range function correspond to page numbers in the website with news listings\n",
        "    #get the list of unique urls in the page\n",
        "  url = 'https://oilprice.com/Energy/Crude-Oil/Page-{}.html'.format(1)\n",
        "  request = requests.get(url)\n",
        "  soup = BeautifulSoup(request.text, \"html.parser\")\n",
        "  for links in soup.find_all('div', {'class': 'categoryArticle'}):\n",
        "      for info in links.find_all('a'):\n",
        "        if info.get('href') not in url_list:\n",
        "          url_list.append(info.get('href'))"
      ],
      "metadata": {
        "id": "D4lWA9EH3w7r"
      },
      "execution_count": null,
      "outputs": []
    },
    {
      "cell_type": "code",
      "source": [
        "for www in url_list:\n",
        "    #access each url\n",
        "    headlines.append(www.split(\"/\")[-1].replace('-',' '))\n",
        "    request = requests.get(www)\n",
        "    soup = BeautifulSoup(request.text, \"html.parser\")\n",
        "    #store date and time of publication of the article\n",
        "    for dates in soup.find_all('span', {'class': 'article_byline'}):\n",
        "        date_time.append(dates.text.split('-')[-1])\n",
        "    \n",
        "    #store the text of the news\n",
        "    temp = []\n",
        "    for news in soup.find_all('p'):\n",
        "            temp.append(news.text)\n",
        "    \n",
        "    #identify the last line of the news article\n",
        "    for last_sentence in reversed(temp):\n",
        "        if last_sentence.split(\" \")[0]==\"By\" and last_sentence.split(\" \")[-1]==\"Oilprice.com\":\n",
        "            break\n",
        "        elif last_sentence.split(\" \")[0]==\"By\":\n",
        "            break\n",
        "    \n",
        "    #prune non news related text from the scraped data to create the news text\n",
        "    joined_text = ' '.join(temp[temp.index(\"More Info\")+1:temp.index(last_sentence)])\n",
        "    news_text.append(joined_text)"
      ],
      "metadata": {
        "id": "Lf94fKon4IPn"
      },
      "execution_count": null,
      "outputs": []
    },
    {
      "cell_type": "code",
      "source": [
        "# save news text along with the news headline in a dataframe      \n",
        "news_df = pd.DataFrame({ 'Date' : date_time,\n",
        "                         'Headline': headlines,\n",
        "                         'News': news_text,\n",
        "                       })"
      ],
      "metadata": {
        "id": "JpYyex-mMuCV"
      },
      "execution_count": null,
      "outputs": []
    },
    {
      "cell_type": "code",
      "source": [
        "# use VADER to perform sentiment analysis on stored news articles\n",
        "analyser = SentimentIntensityAnalyzer()"
      ],
      "metadata": {
        "id": "k1ID2WR_G8vM"
      },
      "execution_count": null,
      "outputs": []
    },
    {
      "cell_type": "code",
      "source": [
        "def comp_score(text):\n",
        "   return analyser.polarity_scores(text)[\"compound\"]  "
      ],
      "metadata": {
        "id": "a1AG6MJlG8w7"
      },
      "execution_count": null,
      "outputs": []
    },
    {
      "cell_type": "code",
      "source": [
        "news_df[\"sentiment\"] = news_df[\"News\"].apply(comp_score)"
      ],
      "metadata": {
        "id": "qXAXRU42HAs9"
      },
      "execution_count": null,
      "outputs": []
    },
    {
      "cell_type": "code",
      "source": [
        "news_df"
      ],
      "metadata": {
        "colab": {
          "base_uri": "https://localhost:8080/",
          "height": 677
        },
        "id": "0uQOFkVJM4Uc",
        "outputId": "f2e2e675-f0c9-4463-e584-7fe7d11ccdf3"
      },
      "execution_count": null,
      "outputs": [
        {
          "output_type": "execute_result",
          "data": {
            "text/html": [
              "\n",
              "  <div id=\"df-af335f7f-b2b0-4345-9d95-7a5f00298691\">\n",
              "    <div class=\"colab-df-container\">\n",
              "      <div>\n",
              "<style scoped>\n",
              "    .dataframe tbody tr th:only-of-type {\n",
              "        vertical-align: middle;\n",
              "    }\n",
              "\n",
              "    .dataframe tbody tr th {\n",
              "        vertical-align: top;\n",
              "    }\n",
              "\n",
              "    .dataframe thead th {\n",
              "        text-align: right;\n",
              "    }\n",
              "</style>\n",
              "<table border=\"1\" class=\"dataframe\">\n",
              "  <thead>\n",
              "    <tr style=\"text-align: right;\">\n",
              "      <th></th>\n",
              "      <th>Date</th>\n",
              "      <th>Headline</th>\n",
              "      <th>News</th>\n",
              "      <th>sentiment</th>\n",
              "    </tr>\n",
              "  </thead>\n",
              "  <tbody>\n",
              "    <tr>\n",
              "      <th>0</th>\n",
              "      <td>Jan 14, 2022, 12:13 PM CST</td>\n",
              "      <td>US Rig Count Jumps As Crude Rally Continues.html</td>\n",
              "      <td>The number of active drilling rigs in the Unit...</td>\n",
              "      <td>0.8238</td>\n",
              "    </tr>\n",
              "    <tr>\n",
              "      <th>1</th>\n",
              "      <td>Jan 14, 2022, 11:00 AM CST</td>\n",
              "      <td>China Set To Release Crude From Strategic Rese...</td>\n",
              "      <td>China has agreed with the United States to rel...</td>\n",
              "      <td>-0.2732</td>\n",
              "    </tr>\n",
              "    <tr>\n",
              "      <th>2</th>\n",
              "      <td>Jan 14, 2022, 9:00 AM CST</td>\n",
              "      <td>Chinas Crude Imports Fell For The First Time I...</td>\n",
              "      <td>Crude oil imports into China fell by 5.4 perce...</td>\n",
              "      <td>-0.9677</td>\n",
              "    </tr>\n",
              "    <tr>\n",
              "      <th>3</th>\n",
              "      <td>Jan 13, 2022, 5:00 PM CST</td>\n",
              "      <td>US Proved Oil Reserves Slip 19 In 2020.html</td>\n",
              "      <td>Proved oil reserves in the United States slipp...</td>\n",
              "      <td>-0.9434</td>\n",
              "    </tr>\n",
              "    <tr>\n",
              "      <th>4</th>\n",
              "      <td>Jan 13, 2022, 7:00 PM CST</td>\n",
              "      <td>80 Oil Is Too Enticing For US Drillers To Igno...</td>\n",
              "      <td>Despite multiple signals from the U.S. oil ind...</td>\n",
              "      <td>0.9880</td>\n",
              "    </tr>\n",
              "    <tr>\n",
              "      <th>5</th>\n",
              "      <td>Jan 13, 2022, 1:00 PM CST</td>\n",
              "      <td>Libyas Once Great Oil Industry Is Facing A Ple...</td>\n",
              "      <td>There are still high hopes for Libya’s oil ind...</td>\n",
              "      <td>0.6611</td>\n",
              "    </tr>\n",
              "    <tr>\n",
              "      <th>6</th>\n",
              "      <td>Jan 12, 2022, 1:00 PM CST</td>\n",
              "      <td>Chinese Oil Major CNOOC Targets Record High Pr...</td>\n",
              "      <td>China National Offshore Oil Corporation (CNOOC...</td>\n",
              "      <td>0.9673</td>\n",
              "    </tr>\n",
              "    <tr>\n",
              "      <th>7</th>\n",
              "      <td>Jan 12, 2022, 11:00 AM CST</td>\n",
              "      <td>A Watershed Moment That Could Send Oil Prices ...</td>\n",
              "      <td>Crude oil prices could reach $100 per barrel, ...</td>\n",
              "      <td>0.7759</td>\n",
              "    </tr>\n",
              "    <tr>\n",
              "      <th>8</th>\n",
              "      <td>Jan 12, 2022, 9:38 AM CST</td>\n",
              "      <td>Oil Prices Inch Higher Despite Large Gasoline ...</td>\n",
              "      <td>Crude prices dipped slightly before jumping ag...</td>\n",
              "      <td>-0.4588</td>\n",
              "    </tr>\n",
              "    <tr>\n",
              "      <th>9</th>\n",
              "      <td>Jan 11, 2022, 9:00 AM CST</td>\n",
              "      <td>China Spends Billions To Alleviate Solar Indus...</td>\n",
              "      <td>A global shortage of polysilicon caused by pan...</td>\n",
              "      <td>-0.9505</td>\n",
              "    </tr>\n",
              "    <tr>\n",
              "      <th>10</th>\n",
              "      <td>Jan 10, 2022, 6:00 PM CST</td>\n",
              "      <td>North Sea Oil Operators Set For Near Record Ca...</td>\n",
              "      <td>UK North Sea operators will see near-record ca...</td>\n",
              "      <td>0.9140</td>\n",
              "    </tr>\n",
              "    <tr>\n",
              "      <th>11</th>\n",
              "      <td>Jan 10, 2022, 7:00 PM CST</td>\n",
              "      <td>China Is The Only Winner In This Huge Iraqi Oi...</td>\n",
              "      <td>The statement last week from Iraq’s Oil Minist...</td>\n",
              "      <td>-0.7567</td>\n",
              "    </tr>\n",
              "    <tr>\n",
              "      <th>12</th>\n",
              "      <td>Jan 10, 2022, 9:00 AM CST</td>\n",
              "      <td>Libyas Oil Production Bounces Back Following P...</td>\n",
              "      <td>Libya’s crude oil production rose to 900,000 b...</td>\n",
              "      <td>-0.9789</td>\n",
              "    </tr>\n",
              "    <tr>\n",
              "      <th>13</th>\n",
              "      <td>Jan 09, 2022, 4:00 PM CST</td>\n",
              "      <td>Tighter Wastewater Regulation Becomes Headache...</td>\n",
              "      <td>Dealing with the US shale industry’s produced ...</td>\n",
              "      <td>0.9874</td>\n",
              "    </tr>\n",
              "    <tr>\n",
              "      <th>14</th>\n",
              "      <td>Jan 09, 2022, 10:00 AM CST</td>\n",
              "      <td>Oil Boom In South America Boosts FPSO Demand.html</td>\n",
              "      <td>The market for floating production, storage, a...</td>\n",
              "      <td>0.9974</td>\n",
              "    </tr>\n",
              "    <tr>\n",
              "      <th>15</th>\n",
              "      <td>Jan 08, 2022, 6:00 PM CST</td>\n",
              "      <td>Cold Weather In North Dakota And Alberta Force...</td>\n",
              "      <td>Regional prices of crude oil pumped in Western...</td>\n",
              "      <td>-0.9939</td>\n",
              "    </tr>\n",
              "    <tr>\n",
              "      <th>16</th>\n",
              "      <td>Jan 08, 2022, 4:00 PM CST</td>\n",
              "      <td>Nigeria Is Losing Major Investors As Oil Theft...</td>\n",
              "      <td>2021 ended with a report that Nigeria experien...</td>\n",
              "      <td>-0.9973</td>\n",
              "    </tr>\n",
              "    <tr>\n",
              "      <th>17</th>\n",
              "      <td>Jan 07, 2022, 12:11 PM CST</td>\n",
              "      <td>US Rig Count Rises Alongside Oil Prices.html</td>\n",
              "      <td>The number of active drilling rigs in the Unit...</td>\n",
              "      <td>0.7375</td>\n",
              "    </tr>\n",
              "    <tr>\n",
              "      <th>18</th>\n",
              "      <td>Jan 07, 2022, 10:00 AM CST</td>\n",
              "      <td>EOG Resources Bucks The Trend Says Its Ready T...</td>\n",
              "      <td>EOG Resources, one of the largest operators in...</td>\n",
              "      <td>0.6378</td>\n",
              "    </tr>\n",
              "    <tr>\n",
              "      <th>19</th>\n",
              "      <td>Jan 07, 2022, 9:00 AM CST</td>\n",
              "      <td>Oil Jumps As Key Kazakhstan Oil Field Gets Hit...</td>\n",
              "      <td>Crude oil jumped sharply on Thursday and remai...</td>\n",
              "      <td>-0.9884</td>\n",
              "    </tr>\n",
              "  </tbody>\n",
              "</table>\n",
              "</div>\n",
              "      <button class=\"colab-df-convert\" onclick=\"convertToInteractive('df-af335f7f-b2b0-4345-9d95-7a5f00298691')\"\n",
              "              title=\"Convert this dataframe to an interactive table.\"\n",
              "              style=\"display:none;\">\n",
              "        \n",
              "  <svg xmlns=\"http://www.w3.org/2000/svg\" height=\"24px\"viewBox=\"0 0 24 24\"\n",
              "       width=\"24px\">\n",
              "    <path d=\"M0 0h24v24H0V0z\" fill=\"none\"/>\n",
              "    <path d=\"M18.56 5.44l.94 2.06.94-2.06 2.06-.94-2.06-.94-.94-2.06-.94 2.06-2.06.94zm-11 1L8.5 8.5l.94-2.06 2.06-.94-2.06-.94L8.5 2.5l-.94 2.06-2.06.94zm10 10l.94 2.06.94-2.06 2.06-.94-2.06-.94-.94-2.06-.94 2.06-2.06.94z\"/><path d=\"M17.41 7.96l-1.37-1.37c-.4-.4-.92-.59-1.43-.59-.52 0-1.04.2-1.43.59L10.3 9.45l-7.72 7.72c-.78.78-.78 2.05 0 2.83L4 21.41c.39.39.9.59 1.41.59.51 0 1.02-.2 1.41-.59l7.78-7.78 2.81-2.81c.8-.78.8-2.07 0-2.86zM5.41 20L4 18.59l7.72-7.72 1.47 1.35L5.41 20z\"/>\n",
              "  </svg>\n",
              "      </button>\n",
              "      \n",
              "  <style>\n",
              "    .colab-df-container {\n",
              "      display:flex;\n",
              "      flex-wrap:wrap;\n",
              "      gap: 12px;\n",
              "    }\n",
              "\n",
              "    .colab-df-convert {\n",
              "      background-color: #E8F0FE;\n",
              "      border: none;\n",
              "      border-radius: 50%;\n",
              "      cursor: pointer;\n",
              "      display: none;\n",
              "      fill: #1967D2;\n",
              "      height: 32px;\n",
              "      padding: 0 0 0 0;\n",
              "      width: 32px;\n",
              "    }\n",
              "\n",
              "    .colab-df-convert:hover {\n",
              "      background-color: #E2EBFA;\n",
              "      box-shadow: 0px 1px 2px rgba(60, 64, 67, 0.3), 0px 1px 3px 1px rgba(60, 64, 67, 0.15);\n",
              "      fill: #174EA6;\n",
              "    }\n",
              "\n",
              "    [theme=dark] .colab-df-convert {\n",
              "      background-color: #3B4455;\n",
              "      fill: #D2E3FC;\n",
              "    }\n",
              "\n",
              "    [theme=dark] .colab-df-convert:hover {\n",
              "      background-color: #434B5C;\n",
              "      box-shadow: 0px 1px 3px 1px rgba(0, 0, 0, 0.15);\n",
              "      filter: drop-shadow(0px 1px 2px rgba(0, 0, 0, 0.3));\n",
              "      fill: #FFFFFF;\n",
              "    }\n",
              "  </style>\n",
              "\n",
              "      <script>\n",
              "        const buttonEl =\n",
              "          document.querySelector('#df-af335f7f-b2b0-4345-9d95-7a5f00298691 button.colab-df-convert');\n",
              "        buttonEl.style.display =\n",
              "          google.colab.kernel.accessAllowed ? 'block' : 'none';\n",
              "\n",
              "        async function convertToInteractive(key) {\n",
              "          const element = document.querySelector('#df-af335f7f-b2b0-4345-9d95-7a5f00298691');\n",
              "          const dataTable =\n",
              "            await google.colab.kernel.invokeFunction('convertToInteractive',\n",
              "                                                     [key], {});\n",
              "          if (!dataTable) return;\n",
              "\n",
              "          const docLinkHtml = 'Like what you see? Visit the ' +\n",
              "            '<a target=\"_blank\" href=https://colab.research.google.com/notebooks/data_table.ipynb>data table notebook</a>'\n",
              "            + ' to learn more about interactive tables.';\n",
              "          element.innerHTML = '';\n",
              "          dataTable['output_type'] = 'display_data';\n",
              "          await google.colab.output.renderOutput(dataTable, element);\n",
              "          const docLink = document.createElement('div');\n",
              "          docLink.innerHTML = docLinkHtml;\n",
              "          element.appendChild(docLink);\n",
              "        }\n",
              "      </script>\n",
              "    </div>\n",
              "  </div>\n",
              "  "
            ],
            "text/plain": [
              "                           Date  ... sentiment\n",
              "0    Jan 14, 2022, 12:13 PM CST  ...    0.8238\n",
              "1    Jan 14, 2022, 11:00 AM CST  ...   -0.2732\n",
              "2     Jan 14, 2022, 9:00 AM CST  ...   -0.9677\n",
              "3     Jan 13, 2022, 5:00 PM CST  ...   -0.9434\n",
              "4     Jan 13, 2022, 7:00 PM CST  ...    0.9880\n",
              "5     Jan 13, 2022, 1:00 PM CST  ...    0.6611\n",
              "6     Jan 12, 2022, 1:00 PM CST  ...    0.9673\n",
              "7    Jan 12, 2022, 11:00 AM CST  ...    0.7759\n",
              "8     Jan 12, 2022, 9:38 AM CST  ...   -0.4588\n",
              "9     Jan 11, 2022, 9:00 AM CST  ...   -0.9505\n",
              "10    Jan 10, 2022, 6:00 PM CST  ...    0.9140\n",
              "11    Jan 10, 2022, 7:00 PM CST  ...   -0.7567\n",
              "12    Jan 10, 2022, 9:00 AM CST  ...   -0.9789\n",
              "13    Jan 09, 2022, 4:00 PM CST  ...    0.9874\n",
              "14   Jan 09, 2022, 10:00 AM CST  ...    0.9974\n",
              "15    Jan 08, 2022, 6:00 PM CST  ...   -0.9939\n",
              "16    Jan 08, 2022, 4:00 PM CST  ...   -0.9973\n",
              "17   Jan 07, 2022, 12:11 PM CST  ...    0.7375\n",
              "18   Jan 07, 2022, 10:00 AM CST  ...    0.6378\n",
              "19    Jan 07, 2022, 9:00 AM CST  ...   -0.9884\n",
              "\n",
              "[20 rows x 4 columns]"
            ]
          },
          "metadata": {},
          "execution_count": 10
        }
      ]
    },
    {
      "cell_type": "code",
      "source": [
        "from google.colab import files\n",
        "news_df.to_csv('Sentiment_Analysis.csv')\n",
        "files.download('Sentiment_Analysis.csv')"
      ],
      "metadata": {
        "id": "G277SYZhM5Oq",
        "colab": {
          "base_uri": "https://localhost:8080/",
          "height": 17
        },
        "outputId": "d01b8b4d-7754-47db-8d11-f578c5a9bc7d"
      },
      "execution_count": null,
      "outputs": [
        {
          "output_type": "display_data",
          "data": {
            "application/javascript": [
              "\n",
              "    async function download(id, filename, size) {\n",
              "      if (!google.colab.kernel.accessAllowed) {\n",
              "        return;\n",
              "      }\n",
              "      const div = document.createElement('div');\n",
              "      const label = document.createElement('label');\n",
              "      label.textContent = `Downloading \"${filename}\": `;\n",
              "      div.appendChild(label);\n",
              "      const progress = document.createElement('progress');\n",
              "      progress.max = size;\n",
              "      div.appendChild(progress);\n",
              "      document.body.appendChild(div);\n",
              "\n",
              "      const buffers = [];\n",
              "      let downloaded = 0;\n",
              "\n",
              "      const channel = await google.colab.kernel.comms.open(id);\n",
              "      // Send a message to notify the kernel that we're ready.\n",
              "      channel.send({})\n",
              "\n",
              "      for await (const message of channel.messages) {\n",
              "        // Send a message to notify the kernel that we're ready.\n",
              "        channel.send({})\n",
              "        if (message.buffers) {\n",
              "          for (const buffer of message.buffers) {\n",
              "            buffers.push(buffer);\n",
              "            downloaded += buffer.byteLength;\n",
              "            progress.value = downloaded;\n",
              "          }\n",
              "        }\n",
              "      }\n",
              "      const blob = new Blob(buffers, {type: 'application/binary'});\n",
              "      const a = document.createElement('a');\n",
              "      a.href = window.URL.createObjectURL(blob);\n",
              "      a.download = filename;\n",
              "      div.appendChild(a);\n",
              "      a.click();\n",
              "      div.remove();\n",
              "    }\n",
              "  "
            ],
            "text/plain": [
              "<IPython.core.display.Javascript object>"
            ]
          },
          "metadata": {}
        },
        {
          "output_type": "display_data",
          "data": {
            "application/javascript": [
              "download(\"download_98061fcc-dcd3-4d03-9722-7b043f843121\", \"Sentiment_Analysis.csv\", 67372)"
            ],
            "text/plain": [
              "<IPython.core.display.Javascript object>"
            ]
          },
          "metadata": {}
        }
      ]
    },
    {
      "cell_type": "code",
      "source": [
        ""
      ],
      "metadata": {
        "id": "M8tqjxNwxOj0"
      },
      "execution_count": null,
      "outputs": []
    }
  ]
}